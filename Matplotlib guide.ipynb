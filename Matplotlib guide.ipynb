{
 "cells": [
  {
   "cell_type": "markdown",
   "metadata": {},
   "source": [
    "# A functional guide to `matplotlib` for second year students\n",
    "\n",
    "#### Joshua Hayes, 17.07.2019\n",
    "\n"
   ]
  },
  {
   "cell_type": "markdown",
   "metadata": {},
   "source": [
    "Second year labs are a step-up from first year. The experiments are more involved, the physics is often harder, and the expectations of your demonstrators are higher. One of the areas with which students have historically struggled is generating publication-quality plots. Many people have their own preferred system which they use to generate these plots, but the most common is using the Python module `matplotlib`. This notebook is intended to serve as a guide to introduce some of the core functionality of `matplotlib`. This is by no means conclusive, and for more information you should look to the matplotlib website (https://matplotlib.org/), where there are many excellent examples available, along with extensive documentiation. "
   ]
  },
  {
   "cell_type": "markdown",
   "metadata": {},
   "source": [
    "# The `matplotlib`  basics"
   ]
  },
  {
   "cell_type": "markdown",
   "metadata": {},
   "source": [
    "There are many plotting libraries in many different languages available. `matplotlib` is popular partially because it is easy to pick up and use, but also very powerful once you know your way around it. `matplotlib` is inspired by the plotting routines and styles of MATLAB, which is where the name comes from. \n",
    "\n",
    "Basic usage of `matplotlib` involves using `Figure` and `Axes` objects. You can read more about what objects are and how they work at the end of this notebook, but for now, we will just say that you can think of a `Figure` as a canvas onto which we will put any sets of axes we will plot on, and an `Axes` object as the actual axes onto which we plot. A `Figure` contains `Axes`, and `Axes` get data plotted onto them. Also note that a `Figure` is a `matplotlib` object and a figure is a term used to describe any plot. Keep an eye on the font and watch for the capital F.\n",
    "\n",
    "We will be working using a simple set of data:"
   ]
  },
  {
   "cell_type": "code",
   "execution_count": 23,
   "metadata": {
    "collapsed": true
   },
   "outputs": [],
   "source": [
    "import numpy as np\n",
    "\n",
    "x = np.linspace(0,10, 11)\n",
    "y = x**2 + 3"
   ]
  },
  {
   "cell_type": "markdown",
   "metadata": {},
   "source": [
    "If we want to plot $x$ and $y$, we can create a `Figure` and `Axes` very easily using the `subplots` function:"
   ]
  },
  {
   "cell_type": "code",
   "execution_count": 29,
   "metadata": {},
   "outputs": [
    {
     "data": {
      "image/png": "[encoded data removed]",
      "text/plain": [
       "<matplotlib.figure.Figure at 0x11d814e10>"
      ]
     },
     "metadata": {},
     "output_type": "display_data"
    }
   ],
   "source": [
    "import matplotlib.pyplot as plt\n",
    "\n",
    "# Create the Figure and Axes\n",
    "fig, ax = plt.subplots(1,1)\n",
    "# Plot the data\n",
    "ax.plot(x, y)\n",
    "# Show all the plots\n",
    "plt.show()"
   ]
  },
  {
   "cell_type": "markdown",
   "metadata": {},
   "source": [
    "Excellent, we have made our first plot! \n",
    "\n",
    "This is very basic though, and is missing many things which make a good figure. Adding axis labels and a title is a good place to start. Let's make the plot again, but with labels and a title:"
   ]
  },
  {
   "cell_type": "code",
   "execution_count": 30,
   "metadata": {},
   "outputs": [
    {
     "data": {
      "image/png": "[encoded data removed]",
      "text/plain": [
       "<matplotlib.figure.Figure at 0x11db75668>"
      ]
     },
     "metadata": {},
     "output_type": "display_data"
    }
   ],
   "source": [
    "import matplotlib.pyplot as plt\n",
    "\n",
    "# Create the Figure and Axes\n",
    "fig, ax = plt.subplots(1,1)\n",
    "# Plot the data\n",
    "ax.plot(x, y)\n",
    "ax.set_xlabel('x label')\n",
    "ax.set_ylabel('y label')\n",
    "ax.set_title('Axes title')\n",
    "\n",
    "# Show all the plots\n",
    "plt.show()"
   ]
  },
  {
   "cell_type": "code",
   "execution_count": null,
   "metadata": {
    "collapsed": true
   },
   "outputs": [],
   "source": []
  },
  {
   "cell_type": "code",
   "execution_count": null,
   "metadata": {
    "collapsed": true
   },
   "outputs": [],
   "source": []
  },
  {
   "cell_type": "code",
   "execution_count": null,
   "metadata": {
    "collapsed": true
   },
   "outputs": [],
   "source": []
  },
  {
   "cell_type": "code",
   "execution_count": null,
   "metadata": {
    "collapsed": true
   },
   "outputs": [],
   "source": []
  },
  {
   "cell_type": "code",
   "execution_count": null,
   "metadata": {
    "collapsed": true
   },
   "outputs": [],
   "source": []
  },
  {
   "cell_type": "code",
   "execution_count": null,
   "metadata": {
    "collapsed": true
   },
   "outputs": [],
   "source": []
  },
  {
   "cell_type": "code",
   "execution_count": null,
   "metadata": {
    "collapsed": true
   },
   "outputs": [],
   "source": []
  },
  {
   "cell_type": "code",
   "execution_count": null,
   "metadata": {
    "collapsed": true
   },
   "outputs": [],
   "source": []
  },
  {
   "cell_type": "code",
   "execution_count": null,
   "metadata": {
    "collapsed": true
   },
   "outputs": [],
   "source": []
  },
  {
   "cell_type": "code",
   "execution_count": null,
   "metadata": {
    "collapsed": true
   },
   "outputs": [],
   "source": []
  },
  {
   "cell_type": "markdown",
   "metadata": {},
   "source": [
    "## A quick intro to object oriented programming (bonus)\n",
    "\n",
    "This bonus section is useful for anyone who wants to understand what they are actually writing. I would recommed reading it at some point, as understanding what objects are in programming is incredibly useful. Note that this is intended to serve as an introduction to get you used to thinking about OOP, and how you might go about starting to program using OOP, rather than a fully detailed computer science course. \n",
    "\n",
    "Python, like C++ and Java, is an object oriented programming language. All this means is that rather than separately dealing with a lot of different variables or lists all associated with one thing, all variables associated with a thing are kept in a container, called a Class. \n",
    "\n",
    "To illustrate this, let's look at the example of making a catalogue of stars. We are interested in the type, temperature, and distance of a star. Without using object oriented programming, we could build our catalogue by constructing a series of lists for each attribute:"
   ]
  },
  {
   "cell_type": "code",
   "execution_count": 1,
   "metadata": {
    "collapsed": true
   },
   "outputs": [],
   "source": [
    "star_type = ['K','O','M','G']  # Stellar class\n",
    "temperature = [4000,35000,2700,5500]  # Temperature of the star\n",
    "distance = [1.2, 2.4, 1.8, 8.9]  # Distance to the star in kpc"
   ]
  },
  {
   "cell_type": "markdown",
   "metadata": {},
   "source": [
    "If we want to print the information associated with, say, star 2 (remembering that in Python we start counting from 0), we would have to type"
   ]
  },
  {
   "cell_type": "code",
   "execution_count": 2,
   "metadata": {},
   "outputs": [
    {
     "name": "stdout",
     "output_type": "stream",
     "text": [
      "M 2700 1.8\n"
     ]
    }
   ],
   "source": [
    "print(star_type[2], temperature[2], distance[2])"
   ]
  },
  {
   "cell_type": "markdown",
   "metadata": {},
   "source": [
    "Now, this is fine, but a little cumbersome. As we extend the number of stars in the catalogue, or the amount of information we want have on each star, you can see how even displaying the info on a star will get unwieldy. If we want to start manipulating the data, codes will swifly get very bulky and unreadable. \n",
    "\n",
    "What would make far more sense would be if instead of building the catalogue as a list of all the attributes, divided by stars, we just have a list of stars, and find a nice, clean way to keep all information associated with a given star in one place. This is where classes come in.\n",
    "\n",
    "The best way to think of a class is as a container for information. A simple example of a Star class can be written like this:"
   ]
  },
  {
   "cell_type": "code",
   "execution_count": 14,
   "metadata": {},
   "outputs": [],
   "source": [
    "class Star:\n",
    "    def __init__(self, star_type, temperature, distance):\n",
    "        '''This class is an individual star. \n",
    "        '''\n",
    "        self.star_type = star_type\n",
    "        self.temperature = temperature\n",
    "        self.distance = distance\n",
    "    \n",
    "    def print_info(self):\n",
    "        '''Prints the info of a star nicely'''\n",
    "        print('Type = {}'.format(self.star_type))  # format() fills in the {} with whatever is in the brackets\n",
    "        print('Temperature = {} K'.format(self.temperature))\n",
    "        print('Distance = {} kpc'.format(self.distance))\n",
    "        \n",
    "    def supernova():\n",
    "        print('BANG')"
   ]
  },
  {
   "cell_type": "markdown",
   "metadata": {},
   "source": [
    "Here we can introduce the two features of a class: methods and attributes. Simply put, a method is a function which is contained within a class, and an attribute is a variable associated with a class. If we want to make an instance of this class, we can write"
   ]
  },
  {
   "cell_type": "code",
   "execution_count": 15,
   "metadata": {
    "collapsed": true
   },
   "outputs": [],
   "source": [
    "star1 = Star('K', 4000, 1.2)"
   ]
  },
  {
   "cell_type": "markdown",
   "metadata": {},
   "source": [
    "When we call the class like this, the arguments are passed to the `__init__` function. \n",
    "\n",
    "If we want to access a method or attribute of a class instance, we can use the dot notation. For example:"
   ]
  },
  {
   "cell_type": "code",
   "execution_count": 12,
   "metadata": {},
   "outputs": [
    {
     "data": {
      "text/plain": [
       "4000"
      ]
     },
     "execution_count": 12,
     "metadata": {},
     "output_type": "execute_result"
    }
   ],
   "source": [
    "# Access the temperature of star1:\n",
    "star1.temperature"
   ]
  },
  {
   "cell_type": "code",
   "execution_count": 13,
   "metadata": {},
   "outputs": [
    {
     "name": "stdout",
     "output_type": "stream",
     "text": [
      "Type = K\n",
      "Temperature = 4000 K\n",
      "Distance = 1.2 kpc\n"
     ]
    }
   ],
   "source": [
    "# Call the print_info function:\n",
    "star1.print_info()"
   ]
  },
  {
   "cell_type": "markdown",
   "metadata": {},
   "source": [
    "The protected word `self` is very important to OOP in Python. Whenever a method within a class wants to access an attribute or method which is part of the class, such as in the `print_info` function, `self` is used with the dot notation to access the method or attribute. You may have spotted that in the intialisation of star1 and in the call of `print_info`, we didn't provide a value for `self`. You never have to do this, and in documentation you can functionally ignore it as an argument when providing values to a function. \n",
    "\n",
    "So, if we are using `matplotlib` and plot something on the axes"
   ]
  },
  {
   "cell_type": "code",
   "execution_count": 22,
   "metadata": {},
   "outputs": [
    {
     "data": {
      "image/png": "[encoded data removed]",
      "text/plain": [
       "<matplotlib.figure.Figure at 0x11cf9ff60>"
      ]
     },
     "metadata": {},
     "output_type": "display_data"
    }
   ],
   "source": [
    "import matplotlib.pyplot as plt\n",
    "\n",
    "fig, ax = plt.subplots(1,1)\n",
    "\n",
    "ax.plot(1, 1, 'x')\n",
    "\n",
    "plt.show()"
   ]
  },
  {
   "cell_type": "markdown",
   "metadata": {},
   "source": [
    "we can see that the axes are an object, and the line `ax.plot` is us calling a method! \n",
    "\n",
    "Obviously the underlying code to an `Axes` object in `matplotlib` is much more complicated than out `Star` example, but the principal is the same. If you are ever trying to work out how to change something on a plot, first consider which part of the plot you are trying to change. Adding labels to axes? You'll need to use a method from an `Axes` object. What to change the size of the figure itself? Use the `Figure` object."
   ]
  },
  {
   "cell_type": "code",
   "execution_count": null,
   "metadata": {
    "collapsed": true
   },
   "outputs": [],
   "source": []
  }
 ],
 "metadata": {
  "kernelspec": {
   "display_name": "Python 3",
   "language": "python",
   "name": "python3"
  },
  "language_info": {
   "codemirror_mode": {
    "name": "ipython",
    "version": 3
   },
   "file_extension": ".py",
   "mimetype": "text/x-python",
   "name": "python",
   "nbconvert_exporter": "python",
   "pygments_lexer": "ipython3",
   "version": "3.6.7"
  }
 },
 "nbformat": 4,
 "nbformat_minor": 2
}
